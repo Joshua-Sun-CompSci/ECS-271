{
 "cells": [
  {
   "cell_type": "markdown",
   "id": "38cc98af",
   "metadata": {},
   "source": [
    "### Text generation"
   ]
  },
  {
   "cell_type": "code",
   "execution_count": 1,
   "id": "b1738e98",
   "metadata": {},
   "outputs": [],
   "source": [
    "input = \"Dynamic Programming\" # Change the Input to generate"
   ]
  },
  {
   "cell_type": "code",
   "execution_count": null,
   "id": "a5eb2935",
   "metadata": {},
   "outputs": [],
   "source": [
    "from transformers import AutoModelForCausalLM, AutoTokenizer, BitsAndBytesConfig\n",
    "from peft import PeftModel\n",
    "import torch\n",
    "\n",
    "# === Config ===\n",
    "base_model = \"mistralai/Mistral-7B-v0.1\"\n",
    "base = AutoModelForCausalLM.from_pretrained(base_model)\n",
    "model = PeftModel.from_pretrained(base, \"markteammate/Mistral_academic_style_tune\")\n",
    "\n",
    "# === Tokenizer === \n",
    "tokenizer = AutoTokenizer.from_pretrained(base_model)\n",
    "tokenizer.pad_token = tokenizer.eos_token\n",
    "\n",
    "# === QLoRA quantization config ===\n",
    "bnb_config = BitsAndBytesConfig(\n",
    "    load_in_4bit=True,\n",
    "    bnb_4bit_use_double_quant=True,\n",
    "    bnb_4bit_quant_type=\"nf4\",\n",
    "    bnb_4bit_compute_dtype=torch.float16,\n",
    ")\n",
    "\n",
    "# === Load base model with quantization ===\n",
    "base_model = AutoModelForCausalLM.from_pretrained(\n",
    "    base_model_name,\n",
    "    device_map=\"auto\",\n",
    "    quantization_config=bnb_config,\n",
    "    trust_remote_code=True,\n",
    ")\n",
    "\n",
    "# === Load LoRA adapter from Hugging Face ===\n",
    "model = PeftModel.from_pretrained(base_model, lora_repo)\n",
    "model.eval()\n",
    "\n",
    "# === Prompt ===\n",
    "prompt = \"\"\"### Instruction:\n",
    "Write an academic paragraph given the title.\n",
    "\n",
    "### Input: \"\"\" + input + \"\"\"\n",
    "\n",
    "### Response:\n",
    "\"\"\"\n",
    "\n",
    "# === Tokenize and generate ===\n",
    "inputs = tokenizer(prompt, return_tensors=\"pt\").to(model.device)\n",
    "with torch.no_grad():\n",
    "    output = model.generate(\n",
    "        **inputs,\n",
    "        max_new_tokens=150,\n",
    "        temperature=0.7,\n",
    "        top_p=0.95,\n",
    "        do_sample=True\n",
    "    )\n",
    "\n",
    "# === Decode ===\n",
    "print(tokenizer.decode(output[0], skip_special_tokens=True))\n"
   ]
  }
 ],
 "metadata": {
  "kernelspec": {
   "display_name": "Python 3 (ipykernel)",
   "language": "python",
   "name": "python3"
  },
  "language_info": {
   "codemirror_mode": {
    "name": "ipython",
    "version": 3
   },
   "file_extension": ".py",
   "mimetype": "text/x-python",
   "name": "python",
   "nbconvert_exporter": "python",
   "pygments_lexer": "ipython3",
   "version": "3.13.1"
  }
 },
 "nbformat": 4,
 "nbformat_minor": 5
}
