{
 "cells": [
  {
   "cell_type": "markdown",
   "id": "71c32892",
   "metadata": {},
   "source": [
    "### Process dataset"
   ]
  },
  {
   "cell_type": "code",
   "execution_count": null,
   "id": "c3b26eb6",
   "metadata": {},
   "outputs": [],
   "source": [
    "import json\n",
    "import re\n",
    "\n",
    "with open(\"data/sampled_arxiv.json\", \"r\", encoding=\"utf-8\") as f:\n",
    "    data = json.load(f)\n",
    "\n",
    "def clean_text(text, max_length=1000):\n",
    "    if not isinstance(text, str):\n",
    "        return None\n",
    "\n",
    "    text = re.sub(r\"\\$.*?\\$\", \"\", text)\n",
    "    text = re.sub(r\"\\\\\\[.*?\\\\\\]\", \"\", text)\n",
    "    text = re.sub(r\"\\\\begin\\{.*?\\}.*?\\\\end\\{.*?\\}\", \"\", text, flags=re.DOTALL)\n",
    "    text = re.sub(r\"\\s+\", \" \", text).strip()\n",
    "\n",
    "    return text[:max_length]\n",
    "\n",
    "cleaned_data = []\n",
    "for entry in data:\n",
    "    abstract = entry.get(\"abstract\") or entry.get(\"summary\")\n",
    "    cleaned = clean_text(abstract)\n",
    "    if cleaned and len(cleaned) > 100:\n",
    "        cleaned_data.append(cleaned)\n",
    "\n",
    "print(f\"{len(cleaned_data)} cleaned entries.\")\n",
    "\n",
    "output_path = \"data/data.txt\"\n",
    "with open(output_path, \"w\", encoding=\"utf-8\") as f:\n",
    "    for line in cleaned_data:\n",
    "        f.write(line.strip() + \"\\n\\n\")\n",
    "\n",
    "print(f\"Saved data to {output_path}.\")"
   ]
  },
  {
   "cell_type": "markdown",
   "id": "c9c9ef72",
   "metadata": {},
   "source": [
    "### Load dataset"
   ]
  },
  {
   "cell_type": "code",
   "execution_count": null,
   "id": "104544e5",
   "metadata": {},
   "outputs": [],
   "source": [
    "from transformers import GPT2Tokenizer, GPT2LMHeadModel\n",
    "from transformers import TextDataset, DataCollatorForLanguageModeling\n",
    "\n",
    "tokenizer = GPT2Tokenizer.from_pretrained(\"gpt2\")\n",
    "tokenizer.pad_token = tokenizer.eos_token  # Prevents warnings\n",
    "\n",
    "def load_dataset(path):\n",
    "    return TextDataset(\n",
    "        tokenizer=tokenizer,\n",
    "        file_path=path,\n",
    "        block_size=512\n",
    "    )\n",
    "\n",
    "train_dataset = load_dataset(\"../data/data.txt\")\n",
    "data_collator = DataCollatorForLanguageModeling(tokenizer=tokenizer, mlm=False)"
   ]
  },
  {
   "cell_type": "markdown",
   "id": "8ae8ed09",
   "metadata": {},
   "source": [
    "### Auto evaluation at end of each epoch"
   ]
  },
  {
   "cell_type": "code",
   "execution_count": null,
   "id": "52a90e85",
   "metadata": {},
   "outputs": [],
   "source": [
    "from transformers import TrainerCallback\n",
    "\n",
    "class GenerationCallback(TrainerCallback):\n",
    "    def __init__(self, tokenizer, model, prompt=\"Explain overfitting in machine learning.\", max_length=150):\n",
    "        self.tokenizer = tokenizer\n",
    "        self.model = model\n",
    "        self.prompt = prompt\n",
    "        self.max_length = max_length\n",
    "\n",
    "    def on_epoch_end(self, args, state, control, **kwargs):\n",
    "        print(f\"\\nSample generation after epoch {state.epoch:.0f}\")\n",
    "        self.model.eval()\n",
    "        inputs = self.tokenizer(self.prompt, return_tensors=\"pt\").to(self.model.device)\n",
    "        outputs = self.model.generate(\n",
    "            **inputs,\n",
    "            max_length=self.max_length,\n",
    "            do_sample=True,\n",
    "            top_p=0.95,\n",
    "            temperature=0.8,\n",
    "        )\n",
    "        generated_text = self.tokenizer.decode(outputs[0], skip_special_tokens=True)\n",
    "        print(\"\\nSample Output:\\n\", generated_text)\n",
    "\n",
    "        with open(f\"sample_epoch_{int(state.epoch)}.txt\", \"w\", encoding=\"utf-8\") as f:\n",
    "            f.write(generated_text)"
   ]
  },
  {
   "cell_type": "markdown",
   "id": "f32fbcfa",
   "metadata": {},
   "source": [
    "### Training"
   ]
  },
  {
   "cell_type": "code",
   "execution_count": null,
   "id": "e01bd8da",
   "metadata": {},
   "outputs": [],
   "source": [
    "from transformers import TrainingArguments, Trainer\n",
    "\n",
    "model = GPT2LMHeadModel.from_pretrained(\"gpt2\")\n",
    "\n",
    "training_args = TrainingArguments(\n",
    "    output_dir=\"./gpt2-arxiv\",\n",
    "    overwrite_output_dir=True,\n",
    "    num_train_epochs=2,\n",
    "    per_device_train_batch_size=16,\n",
    "    save_steps=1000,\n",
    "    save_total_limit=None,\n",
    "    prediction_loss_only=True,\n",
    "    fp16=True,\n",
    "    logging_steps=100,\n",
    ")\n",
    "\n",
    "trainer = Trainer(\n",
    "    model=model,\n",
    "    args=training_args,\n",
    "    train_dataset=train_dataset,\n",
    "    data_collator=data_collator,\n",
    "    callbacks=[GenerationCallback(tokenizer, model)]\n",
    ")\n",
    "\n",
    "trainer.train()"
   ]
  }
 ],
 "metadata": {
  "kernelspec": {
   "display_name": "Python 3",
   "language": "python",
   "name": "python3"
  },
  "language_info": {
   "codemirror_mode": {
    "name": "ipython",
    "version": 3
   },
   "file_extension": ".py",
   "mimetype": "text/x-python",
   "name": "python",
   "nbconvert_exporter": "python",
   "pygments_lexer": "ipython3",
   "version": "3.10.9"
  }
 },
 "nbformat": 4,
 "nbformat_minor": 5
}
